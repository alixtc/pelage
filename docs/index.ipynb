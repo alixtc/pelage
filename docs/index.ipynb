{
 "cells": [
  {
   "cell_type": "markdown",
   "metadata": {},
   "source": [
    "![release](https://img.shields.io/github/v/release/alixtc/pelage?color=orange.png)\n",
    "![coverage](https://img.shields.io/badge/dynamic/json?url=https%3A%2F%2Fraw.githubusercontent.com%2Falixtc%2Fpelage%2Fmaster%2F.coverage%2Fcoverage.json&query=%24.totals.percent_covered_display&suffix=%25&label=Coverage&color=green)\n",
    "![Licence](https://img.shields.io/github/license/alixtc/pelage.png)\n",
    "![python-version](https://img.shields.io/python/required-version-toml?tomlFilePath=https%3A%2F%2Fraw.githubusercontent.com%2Falixtc%2Fpelage%2Frefs%2Fheads%2Fmaster%2Fpyproject.toml)\n",
    "![polars-version](https://img.shields.io/badge/dynamic/toml?url=https%3A%2F%2Fraw.githubusercontent.com%2Falixtc%2Fpelage%2Frefs%2Fheads%2Fmaster%2Fpyproject.toml&query=%24.project.dependencies&label=Dependency)\n",
    "![PyPI - Downloads](https://img.shields.io/pypi/dm/pelage?color=orange)\n"
   ]
  },
  {
   "cell_type": "markdown",
   "metadata": {},
   "source": [
    "# Welcome to pelage!\n",
    "\n",
    "The goal of this project is to provide a simple way to test your `polars` code on the fly, while doing your analysis. The main idea is to chain a series of meaningful checks on your data so that you can continue and be more confident about your data quality. Here is how to use it:\n"
   ]
  },
  {
   "cell_type": "code",
   "execution_count": 1,
   "metadata": {},
   "outputs": [
    {
     "name": "stdout",
     "output_type": "stream",
     "text": [
      "shape: (3, 3)\n",
      "┌─────┬─────┬───────┐\n",
      "│ a   ┆ b   ┆ new_a │\n",
      "│ --- ┆ --- ┆ ---   │\n",
      "│ i64 ┆ str ┆ str   │\n",
      "╞═════╪═════╪═══════╡\n",
      "│ 1   ┆ a   ┆ 1     │\n",
      "│ 2   ┆ b   ┆ 2     │\n",
      "│ 3   ┆ c   ┆ 3     │\n",
      "└─────┴─────┴───────┘\n"
     ]
    }
   ],
   "source": [
    "import polars as pl\n",
    "\n",
    "import pelage as plg\n",
    "\n",
    "data = pl.DataFrame(\n",
    "    {\n",
    "        \"a\": [1, 2, 3],\n",
    "        \"b\": [\"a\", \"b\", \"c\"],\n",
    "    }\n",
    ")\n",
    "validated_data = (\n",
    "    data.pipe(plg.has_shape, (3, 2))\n",
    "    .pipe(plg.has_no_nulls)\n",
    "    .with_columns(\n",
    "        pl.col(\"a\").cast(str).alias(\"new_a\"),\n",
    "    )\n",
    ")\n",
    "\n",
    "print(validated_data)"
   ]
  },
  {
   "cell_type": "markdown",
   "metadata": {},
   "source": [
    "Here is a example of the error messages that if the checks fail:"
   ]
  },
  {
   "cell_type": "code",
   "execution_count": 2,
   "metadata": {},
   "outputs": [
    {
     "name": "stdout",
     "output_type": "stream",
     "text": [
      "Details\n",
      "shape: (1, 1)\n",
      "┌───────┐\n",
      "│ new_a │\n",
      "│ ---   │\n",
      "│ str   │\n",
      "╞═══════╡\n",
      "│ 3     │\n",
      "└───────┘\n",
      "Error with the DataFrame passed to the check function:\n",
      "--> This DataFrame contains values marked as forbidden\n"
     ]
    }
   ],
   "source": [
    "try:\n",
    "    validated_data.pipe(plg.not_accepted_values, {\"new_a\": [\"3\"]})\n",
    "except plg.PolarsAssertError as err:\n",
    "    print(err)"
   ]
  },
  {
   "cell_type": "markdown",
   "metadata": {},
   "source": [
    "\n",
    "Here are the main keys points:\n",
    "\n",
    "- Each `pelage` check returns the original `polars` DataFrame if the data is valid. It allows you continue your analysis by chaining additional transformations.\n",
    "\n",
    "- `pelage` raises an meaningful error message each time the data does not meet your\n",
    "expectations.\n",
    "\n",
    "# Installation\n",
    "\n",
    "Install the package directly via PIP:\n",
    "\n",
    "```bash\n",
    "pip install pelage\n",
    "```\n",
    "# Main Concepts\n",
    "\n",
    "## Defensive analysis:\n",
    "\n",
    "The main idea of `pelage` is to leverage your possibility for defensive analysis, similarly to other python packages such as \"bulwark\" or \"engarde\". However `pelage` rely mainly on possibility to directly pipe and chain transformations provided by the fantastic `polars` API rather than using decorators.\n",
    "\n",
    "Additionally, some efforts have been put to have type hints for the provided functions in order to ensure full compatibility with your IDE across your chaining.\n",
    "\n",
    "## Leveraging `polars` blazing speed:\n",
    "\n",
    "Although it is written in python most of `pelage` checks are written in a way that enable the polars API to work its magic. We try to use a syntax that is compatible with fast execution and parallelism provided by polars.\n",
    "\n",
    "![Site-Readme](assets/presentation.gif)\n",
    "![Github-Readme](docs/assets/presentation.gif)\n",
    "\n",
    "\n",
    "## Interoperability:\n",
    "\n",
    "The polars DSL and syntax have been develop with the idea to make the transition to SQL much easier. In this perspective, `pelage` wants to facilitate the use of tests to ensure data quality while enabling a possible transition towards SQL, and using the same tests in SQL. This is why we implemented most of the checks that have been developed for `dbt` tool box, notably:\n",
    "\n",
    "- [dbt generic checks](https://docs.getdbt.com/docs/build/data-tests#generic-data-tests)\n",
    "- [dbt-utils tests](https://github.com/dbt-labs/dbt-utils?tab=readme-ov-file)\n",
    "- (Soon to come: dbt expectations)\n",
    "\n",
    "We believe that data quality checks should be written as close as possible to the data exploration phase, and we hope that providing theses checks in a context where it is easier to visualize your data will be helpful. Similarly, we know that it is sometimes much easier to industrialize SQL data pipelines, in this perspective the similarity between `pelage` and `dbt` testing capabilities should make the transition much smoother.\n"
   ]
  },
  {
   "cell_type": "markdown",
   "metadata": {},
   "source": [
    "# Why pelage?\n",
    "`pelage` is the french word designating an animal fur, and particularly in the case of polar bears, it shields them from water, temperature variations and act as a strong camouflage. With the skin it constitutes a strong barrier against the changes in the outside world, and it is therefore well-suited name for a package designed to help with defensive analysis. "
   ]
  }
 ],
 "metadata": {
  "kernelspec": {
   "display_name": ".venv",
   "language": "python",
   "name": "python3"
  },
  "language_info": {
   "codemirror_mode": {
    "name": "ipython",
    "version": 3
   },
   "file_extension": ".py",
   "mimetype": "text/x-python",
   "name": "python",
   "nbconvert_exporter": "python",
   "pygments_lexer": "ipython3",
   "version": "3.11.12"
  }
 },
 "nbformat": 4,
 "nbformat_minor": 2
}
